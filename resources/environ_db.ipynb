{
 "cells": [
  {
   "cell_type": "markdown",
   "metadata": {},
   "source": [
    "### Dependencies"
   ]
  },
  {
   "cell_type": "code",
   "execution_count": 1,
   "metadata": {},
   "outputs": [
    {
     "data": {
      "text/html": [
       "<div>\n",
       "<style scoped>\n",
       "    .dataframe tbody tr th:only-of-type {\n",
       "        vertical-align: middle;\n",
       "    }\n",
       "\n",
       "    .dataframe tbody tr th {\n",
       "        vertical-align: top;\n",
       "    }\n",
       "\n",
       "    .dataframe thead th {\n",
       "        text-align: right;\n",
       "    }\n",
       "</style>\n",
       "<table border=\"1\" class=\"dataframe\">\n",
       "  <thead>\n",
       "    <tr style=\"text-align: right;\">\n",
       "      <th></th>\n",
       "      <th>Year</th>\n",
       "      <th>No_Smoothing</th>\n",
       "      <th>Lowess(5)</th>\n",
       "    </tr>\n",
       "  </thead>\n",
       "  <tbody>\n",
       "    <tr>\n",
       "      <th>0</th>\n",
       "      <td>1880</td>\n",
       "      <td>-0.16</td>\n",
       "      <td>-0.09</td>\n",
       "    </tr>\n",
       "    <tr>\n",
       "      <th>1</th>\n",
       "      <td>1881</td>\n",
       "      <td>-0.08</td>\n",
       "      <td>-0.12</td>\n",
       "    </tr>\n",
       "    <tr>\n",
       "      <th>2</th>\n",
       "      <td>1882</td>\n",
       "      <td>-0.10</td>\n",
       "      <td>-0.16</td>\n",
       "    </tr>\n",
       "    <tr>\n",
       "      <th>3</th>\n",
       "      <td>1883</td>\n",
       "      <td>-0.17</td>\n",
       "      <td>-0.20</td>\n",
       "    </tr>\n",
       "    <tr>\n",
       "      <th>4</th>\n",
       "      <td>1884</td>\n",
       "      <td>-0.28</td>\n",
       "      <td>-0.23</td>\n",
       "    </tr>\n",
       "  </tbody>\n",
       "</table>\n",
       "</div>"
      ],
      "text/plain": [
       "   Year  No_Smoothing  Lowess(5)\n",
       "0  1880         -0.16      -0.09\n",
       "1  1881         -0.08      -0.12\n",
       "2  1882         -0.10      -0.16\n",
       "3  1883         -0.17      -0.20\n",
       "4  1884         -0.28      -0.23"
      ]
     },
     "execution_count": 1,
     "metadata": {},
     "output_type": "execute_result"
    }
   ],
   "source": [
    "# Import pandas \n",
    "import pandas as pd\n",
    "import numpy as np\n",
    "#reading csv file \n",
    "file = 'historicTemp.csv'\n",
    "df = pd.read_csv(file)\n",
    "df.head()\n",
    "# df = pd.read_csv(\"policy_projections.csv\")\n",
    "# cols = [\"Country\",\"Sector\",\"Name of Indicator\",\"Definition\",\"Unit\",\"References\"]\n",
    "# df = df[df.columns[cols]]\n",
    "# df.head()"
   ]
  },
  {
   "cell_type": "code",
   "execution_count": 11,
   "metadata": {},
   "outputs": [
    {
     "data": {
      "text/plain": [
       "ID                   398\n",
       "Country              398\n",
       "Sector               398\n",
       "Name of Indicator    398\n",
       "Definition           398\n",
       "Unit                 398\n",
       "References           398\n",
       "dtype: int64"
      ]
     },
     "execution_count": 11,
     "metadata": {},
     "output_type": "execute_result"
    }
   ],
   "source": [
    "df.count()"
   ]
  },
  {
   "cell_type": "code",
   "execution_count": 12,
   "metadata": {},
   "outputs": [],
   "source": [
    "df = df.dropna(how='any')"
   ]
  },
  {
   "cell_type": "code",
   "execution_count": 13,
   "metadata": {},
   "outputs": [
    {
     "data": {
      "text/plain": [
       "ID                   398\n",
       "Country              398\n",
       "Sector               398\n",
       "Name of Indicator    398\n",
       "Definition           398\n",
       "Unit                 398\n",
       "References           398\n",
       "dtype: int64"
      ]
     },
     "execution_count": 13,
     "metadata": {},
     "output_type": "execute_result"
    }
   ],
   "source": [
    "df.count()"
   ]
  },
  {
   "cell_type": "code",
   "execution_count": 14,
   "metadata": {},
   "outputs": [
    {
     "data": {
      "text/html": [
       "<div>\n",
       "<style scoped>\n",
       "    .dataframe tbody tr th:only-of-type {\n",
       "        vertical-align: middle;\n",
       "    }\n",
       "\n",
       "    .dataframe tbody tr th {\n",
       "        vertical-align: top;\n",
       "    }\n",
       "\n",
       "    .dataframe thead th {\n",
       "        text-align: right;\n",
       "    }\n",
       "</style>\n",
       "<table border=\"1\" class=\"dataframe\">\n",
       "  <thead>\n",
       "    <tr style=\"text-align: right;\">\n",
       "      <th></th>\n",
       "      <th>Country</th>\n",
       "      <th>Sector</th>\n",
       "      <th>Name of Indicator</th>\n",
       "      <th>Definition</th>\n",
       "      <th>Unit</th>\n",
       "      <th>References</th>\n",
       "    </tr>\n",
       "  </thead>\n",
       "  <tbody>\n",
       "    <tr>\n",
       "      <th>0</th>\n",
       "      <td>Argentina</td>\n",
       "      <td>Oil and Gas</td>\n",
       "      <td>Oil and Gas activity</td>\n",
       "      <td>Oil and Gas Production</td>\n",
       "      <td>Mtoe</td>\n",
       "      <td>Ministry of Energy and Mining of Argentina (20...</td>\n",
       "    </tr>\n",
       "    <tr>\n",
       "      <th>1</th>\n",
       "      <td>Argentina</td>\n",
       "      <td>Electricity</td>\n",
       "      <td>Electricity activity</td>\n",
       "      <td>Electricity demand per capita</td>\n",
       "      <td>kWh / cap</td>\n",
       "      <td>Ministry of Energy and Mining of Argentina (20...</td>\n",
       "    </tr>\n",
       "    <tr>\n",
       "      <th>2</th>\n",
       "      <td>Argentina</td>\n",
       "      <td>Electricity</td>\n",
       "      <td>Electricity emissions intensity</td>\n",
       "      <td>CO2 emissions per unit electricity produced</td>\n",
       "      <td>gCO2 / kWh</td>\n",
       "      <td>Climate Action Tracker (2017). Argentina.  Lin...</td>\n",
       "    </tr>\n",
       "    <tr>\n",
       "      <th>3</th>\n",
       "      <td>Argentina</td>\n",
       "      <td>Electricity</td>\n",
       "      <td>Electricity renewable intensity</td>\n",
       "      <td>Renewables in electricity generation</td>\n",
       "      <td>% renewables</td>\n",
       "      <td>Ministry of Energy and Mining of Argentina (20...</td>\n",
       "    </tr>\n",
       "    <tr>\n",
       "      <th>4</th>\n",
       "      <td>Argentina</td>\n",
       "      <td>Electricity</td>\n",
       "      <td>Renewable energy generation (index)</td>\n",
       "      <td>Renewable energy generation (indexed to base y...</td>\n",
       "      <td>1990 value normalised to 1</td>\n",
       "      <td>Climate Action Tracker (2017). Argentina.  Lin...</td>\n",
       "    </tr>\n",
       "  </tbody>\n",
       "</table>\n",
       "</div>"
      ],
      "text/plain": [
       "     Country       Sector                    Name of Indicator  \\\n",
       "0  Argentina  Oil and Gas                 Oil and Gas activity   \n",
       "1  Argentina  Electricity                 Electricity activity   \n",
       "2  Argentina  Electricity      Electricity emissions intensity   \n",
       "3  Argentina  Electricity      Electricity renewable intensity   \n",
       "4  Argentina  Electricity  Renewable energy generation (index)   \n",
       "\n",
       "                                          Definition  \\\n",
       "0                             Oil and Gas Production   \n",
       "1                      Electricity demand per capita   \n",
       "2        CO2 emissions per unit electricity produced   \n",
       "3               Renewables in electricity generation   \n",
       "4  Renewable energy generation (indexed to base y...   \n",
       "\n",
       "                         Unit  \\\n",
       "0                        Mtoe   \n",
       "1                   kWh / cap   \n",
       "2                  gCO2 / kWh   \n",
       "3                % renewables   \n",
       "4  1990 value normalised to 1   \n",
       "\n",
       "                                          References  \n",
       "0  Ministry of Energy and Mining of Argentina (20...  \n",
       "1  Ministry of Energy and Mining of Argentina (20...  \n",
       "2  Climate Action Tracker (2017). Argentina.  Lin...  \n",
       "3  Ministry of Energy and Mining of Argentina (20...  \n",
       "4  Climate Action Tracker (2017). Argentina.  Lin...  "
      ]
     },
     "execution_count": 14,
     "metadata": {},
     "output_type": "execute_result"
    }
   ],
   "source": [
    "df2 = df[[\"Country\",\"Sector\",\"Name of Indicator\",\"Definition\",\"Unit\",\"References\"]]\n",
    "df2.head()"
   ]
  },
  {
   "cell_type": "markdown",
   "metadata": {},
   "source": [
    "### Import table raw_data"
   ]
  },
  {
   "cell_type": "code",
   "execution_count": 15,
   "metadata": {},
   "outputs": [
    {
     "data": {
      "text/html": [
       "<div>\n",
       "<style scoped>\n",
       "    .dataframe tbody tr th:only-of-type {\n",
       "        vertical-align: middle;\n",
       "    }\n",
       "\n",
       "    .dataframe tbody tr th {\n",
       "        vertical-align: top;\n",
       "    }\n",
       "\n",
       "    .dataframe thead th {\n",
       "        text-align: right;\n",
       "    }\n",
       "</style>\n",
       "<table border=\"1\" class=\"dataframe\">\n",
       "  <thead>\n",
       "    <tr style=\"text-align: right;\">\n",
       "      <th></th>\n",
       "      <th>References</th>\n",
       "    </tr>\n",
       "  </thead>\n",
       "  <tbody>\n",
       "    <tr>\n",
       "      <th>0</th>\n",
       "      <td>Ministry of Energy and Mining of Argentina (20...</td>\n",
       "    </tr>\n",
       "    <tr>\n",
       "      <th>1</th>\n",
       "      <td>Ministry of Energy and Mining of Argentina (20...</td>\n",
       "    </tr>\n",
       "    <tr>\n",
       "      <th>2</th>\n",
       "      <td>Climate Action Tracker (2017). Argentina.  Lin...</td>\n",
       "    </tr>\n",
       "    <tr>\n",
       "      <th>3</th>\n",
       "      <td>Ministry of Energy and Mining of Argentina (20...</td>\n",
       "    </tr>\n",
       "    <tr>\n",
       "      <th>4</th>\n",
       "      <td>Climate Action Tracker (2017). Argentina.  Lin...</td>\n",
       "    </tr>\n",
       "  </tbody>\n",
       "</table>\n",
       "</div>"
      ],
      "text/plain": [
       "                                          References\n",
       "0  Ministry of Energy and Mining of Argentina (20...\n",
       "1  Ministry of Energy and Mining of Argentina (20...\n",
       "2  Climate Action Tracker (2017). Argentina.  Lin...\n",
       "3  Ministry of Energy and Mining of Argentina (20...\n",
       "4  Climate Action Tracker (2017). Argentina.  Lin..."
      ]
     },
     "execution_count": 15,
     "metadata": {},
     "output_type": "execute_result"
    }
   ],
   "source": [
    "df3 =df2[[\"References\"]]\n",
    "df3.head()"
   ]
  },
  {
   "cell_type": "code",
   "execution_count": null,
   "metadata": {
    "scrolled": true
   },
   "outputs": [],
   "source": []
  },
  {
   "cell_type": "raw",
   "metadata": {},
   "source": [
    "Create HTML table"
   ]
  },
  {
   "cell_type": "code",
   "execution_count": 17,
   "metadata": {},
   "outputs": [],
   "source": [
    "df3 = df2.to_html('policy.html', index=False, classes=['table', 'table-striped', 'table-hover'])"
   ]
  },
  {
   "cell_type": "code",
   "execution_count": 2,
   "metadata": {},
   "outputs": [],
   "source": [
    "df.to_json(r'C:\\Users\\jhenv\\Documents\\Data Camp Final Project\\New folder\\BootCamp_FInal_Project\\resources\\temphist.json')"
   ]
  },
  {
   "cell_type": "code",
   "execution_count": null,
   "metadata": {},
   "outputs": [],
   "source": []
  },
  {
   "cell_type": "code",
   "execution_count": null,
   "metadata": {},
   "outputs": [],
   "source": []
  }
 ],
 "metadata": {
  "kernelspec": {
   "display_name": "Python 3",
   "language": "python",
   "name": "python3"
  },
  "language_info": {
   "codemirror_mode": {
    "name": "ipython",
    "version": 3
   },
   "file_extension": ".py",
   "mimetype": "text/x-python",
   "name": "python",
   "nbconvert_exporter": "python",
   "pygments_lexer": "ipython3",
   "version": "3.7.3"
  }
 },
 "nbformat": 4,
 "nbformat_minor": 2
}
